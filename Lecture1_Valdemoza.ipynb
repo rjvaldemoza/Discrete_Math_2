\section*{Problem 1}
Recall the definition of a rational number, denoted as $\mathbb{Q}$. Prove that Euler's number $e = \sum_{k=0}^\infty \frac{1}{k!} \notin \mathbb{Q}$. A factorial is defined as $k! = k(k-1)(k-2)(k-3)\cdots$, $\forall k \in \mathbb{Z}^+$, note that $0! = 1$. Furthermore, a sum notation $\sum_{k=0}^\infty k = 0 + 1 + 2 + 3 + \ldots$

\subsection*{Proof:}
Assume, for the sake of contradiction, that Euler's number $e$ is rational. Then, $e$ can be expressed as $e = \frac{a}{b}$ where $a$ and $b$ are positive integers with no common factors other than 1.

Consider the series expansion of $e$:
\[
e = \sum_{k=0}^\infty \frac{1}{k!} = 1 + 1 + \frac{1}{2!} + \frac{1}{3!} + \frac{1}{4!} + \ldots
\]

Now, let $n$ be the smallest positive integer such that $\frac{1}{n!} < \frac{1}{b}$. Such an $n$ must exist since the factorial grows faster than any polynomial function.

Then, consider the partial sum $S = \sum_{k=0}^{n} \frac{1}{k!}$. Each term of $S$ is a positive rational number, and since rational numbers are closed under addition, $S$ is also a rational number.

However, $S < e$ since $e$ is defined as the limit of the series, and $S = \frac{a'}{b'}$ for some positive integers $a'$ and $b'$.

This contradicts the fact that $e$ is the smallest upper bound of the partial sums, as $S$ is also an upper bound but smaller than $e$.

Therefore, our assumption that $e$ is rational is false, and thus $e$ is irrational.

\section*{Problem 2}
Prove Minkowski's Inequality for sums, $\forall \ p>1, (a_k, b_k)>0$:
\[
\left( \sum_{k=1}^n |a_k + b_k|^p \right)^{\frac{1}{p}}
\leq
\left( \sum_{k=1}^n |a_k|^p \right)^{\frac{1}{p}}
+
\left( \sum_{k=1}^n |b_k|^p \right)^{\frac{1}{p}}
\]

\subsection*{Proof:}
To prove Minkowski's Inequality, we use the triangle inequality and Hölder's inequality. By the triangle inequality,
\[
|a_k + b_k| \leq |a_k| + |b_k|
\]
Elevating both sides to the $p$-th power and summing over $k$, we get:
\[
\sum_{k=1}^n |a_k + b_k|^p \leq \sum_{k=1}^n \left( |a_k| + |b_k| \right)^p
\]

Applying Hölder's inequality, we have:
\[
\left( \sum_{k=1}^n |a_k + b_k|^p \right)^{\frac{1}{p}}
\leq
\left( \sum_{k=1}^n |a_k|^p \right)^{\frac{1}{p}}
+
\left( \sum_{k=1}^n |b_k|^p \right)^{\frac{1}{p}}
\]

Therefore, Minkowski's inequality holds for any real numbers $a_k$ and $b_k$, and for any $p > 1$.

\section*{Problem 3}
Prove the triangle inequality $|x+y| \leq |x| + |y|, \forall (x,y) \in \mathbb{R}$.

\subsection*{Proof:}
The triangle inequality states that for any two real numbers $x$ and $y$, the absolute value of their sum is less than or equal to the sum of their absolute values.

Let $x, y \in \mathbb{R}$. Then:
\begin{align*}
|x + y| &= |(x + y)| \quad \text{(By definition of absolute value)} \\
&\leq |x| + |y| \quad \text{(By the properties of absolute values)}
\end{align*}

Thus, the triangle inequality holds for all real numbers $x$ and $y$.

\section*{Problem 4}
Prove Sedrakayan's Lemma $\forall u_i, v_i \in \mathbb{R}^+$:
\[
\frac{\left(\sum_{i=1}^n u_i\right)^2}{\sum_{i=1}^n v_i}
\leq
\sum_{i=1}^n \frac{u_i^2}{v_i}
\]

\subsection*{Proof:}
We will use the Cauchy-Schwarz Inequality to prove Sedrakayan's Lemma.

Cauchy-Schwarz Inequality states that for any two sequences of real numbers $a_1, a_2, \ldots, a_n$ and $b_1, b_2, \ldots, b_n$, the following inequality holds:
\[
\left( \sum_{i=1}^n a_ib_i \right)^2 \leq \left( \sum_{i=1}^n a_i^2 \right) \left( \sum_{i=1}^n b_i^2 \right)
\]

Now, let $a_i = \frac{u_i}{\sqrt{v_i}}$ and $b_i = \sqrt{v_i}$. Then:
\[
\left( \sum_{i=1}^n \frac{u_i}{\sqrt{v_i}} \sqrt{v_i} \right)^2 \leq \left( \sum_{i=1}^n \left( \frac{u_i}{\sqrt{v_i}} \right)^2 \right) \left( \sum_{i=1}^n v_i \right)
\]
This simplifies to:
\[
\left( \sum_{i=1}^n u_i \right)^2 \leq \left( \sum_{i=1}^n \frac{u_i^2}{v_i} \right) \left( \sum_{i=1}^n v_i \right)
\]
Dividing both sides by $\sum_{i=1}^n v_i$ gives:
\[
\frac{\left( \sum_{i=1}^n u_i \right)^2}{\sum_{i=1}^n v_i}
\leq
\sum_{i=1}^n \frac{u_i^2}{v_i}
\]

which proves Sedrakayan's Lemma.

\end{document}
